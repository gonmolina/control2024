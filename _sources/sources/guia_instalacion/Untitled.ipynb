{
 "cells": [
  {
   "cell_type": "code",
   "execution_count": 7,
   "id": "585fd098-5d76-4d6f-864c-f6ee382df769",
   "metadata": {},
   "outputs": [],
   "source": [
    "import control as ct\n",
    "import numpy\n",
    "import matplotlib.pyplot as plt\n",
    "%matplotlib qt5"
   ]
  },
  {
   "cell_type": "code",
   "execution_count": 13,
   "id": "0907a4a9-a420-46e4-a9a4-23404722b798",
   "metadata": {},
   "outputs": [],
   "source": [
    "R=1.\n",
    "L=1.\n",
    "J=1.\n",
    "K=1.\n",
    "b=1.\n",
    "\n",
    "A=[[-R/L, -K/L],[K/J, -b/J]]\n",
    "B=[[1/L],[0]]\n",
    "\n",
    "C=[[0,1],[1,0]]\n",
    "D=[[0],[0]]\n",
    "\n",
    "\n",
    "motor = ct.ss(A,B,C,D)\n"
   ]
  },
  {
   "cell_type": "code",
   "execution_count": 9,
   "id": "2eecad02-f5c7-4368-8114-a2f488bf4865",
   "metadata": {},
   "outputs": [
    {
     "data": {
      "text/latex": [
       "$$\n",
       "\\left(\\begin{array}{rllrll|rll}\n",
       "-1\\phantom{.}&\\hspace{-1em}&\\hspace{-1em}\\phantom{\\cdot}&-1\\phantom{.}&\\hspace{-1em}&\\hspace{-1em}\\phantom{\\cdot}&1\\phantom{.}&\\hspace{-1em}&\\hspace{-1em}\\phantom{\\cdot}\\\\\n",
       "1\\phantom{.}&\\hspace{-1em}&\\hspace{-1em}\\phantom{\\cdot}&-1\\phantom{.}&\\hspace{-1em}&\\hspace{-1em}\\phantom{\\cdot}&0\\phantom{.}&\\hspace{-1em}&\\hspace{-1em}\\phantom{\\cdot}\\\\\n",
       "\\hline\n",
       "1\\phantom{.}&\\hspace{-1em}&\\hspace{-1em}\\phantom{\\cdot}&0\\phantom{.}&\\hspace{-1em}&\\hspace{-1em}\\phantom{\\cdot}&0\\phantom{.}&\\hspace{-1em}&\\hspace{-1em}\\phantom{\\cdot}\\\\\n",
       "0\\phantom{.}&\\hspace{-1em}&\\hspace{-1em}\\phantom{\\cdot}&1\\phantom{.}&\\hspace{-1em}&\\hspace{-1em}\\phantom{\\cdot}&0\\phantom{.}&\\hspace{-1em}&\\hspace{-1em}\\phantom{\\cdot}\\\\\n",
       "\\end{array}\\right)\n",
       "$$"
      ],
      "text/plain": [
       "StateSpace(array([[-1., -1.],\n",
       "       [ 1., -1.]]), array([[1.],\n",
       "       [0.]]), array([[1., 0.],\n",
       "       [0., 1.]]), array([[0.],\n",
       "       [0.]]))"
      ]
     },
     "execution_count": 9,
     "metadata": {},
     "output_type": "execute_result"
    }
   ],
   "source": [
    "motor\n"
   ]
  },
  {
   "cell_type": "code",
   "execution_count": 14,
   "id": "b9c42eb5-cec3-4c9b-bf8d-dd0bbf79bffe",
   "metadata": {},
   "outputs": [],
   "source": [
    "r=ct.step_response(motor)\n"
   ]
  },
  {
   "cell_type": "code",
   "execution_count": 15,
   "id": "b4cb7045-e0a8-4692-b9dd-840d20f8b100",
   "metadata": {},
   "outputs": [
    {
     "data": {
      "text/plain": [
       "[<matplotlib.lines.Line2D at 0x7facbd842840>]"
      ]
     },
     "execution_count": 15,
     "metadata": {},
     "output_type": "execute_result"
    }
   ],
   "source": [
    "plt.plot(r.t,r.y[0,0] )"
   ]
  },
  {
   "cell_type": "code",
   "execution_count": 12,
   "id": "b7d5ffd3-0057-49bf-8757-58325cb61fc2",
   "metadata": {},
   "outputs": [
    {
     "data": {
      "text/plain": [
       "(2, 1, 100)"
      ]
     },
     "execution_count": 12,
     "metadata": {},
     "output_type": "execute_result"
    }
   ],
   "source": [
    "r.y.shape"
   ]
  },
  {
   "cell_type": "code",
   "execution_count": null,
   "id": "9384749b-78a4-4e57-961d-87fd392ff329",
   "metadata": {},
   "outputs": [],
   "source": []
  }
 ],
 "metadata": {
  "kernelspec": {
   "display_name": "Python 3 (ipykernel)",
   "language": "python",
   "name": "python3"
  },
  "language_info": {
   "codemirror_mode": {
    "name": "ipython",
    "version": 3
   },
   "file_extension": ".py",
   "mimetype": "text/x-python",
   "name": "python",
   "nbconvert_exporter": "python",
   "pygments_lexer": "ipython3",
   "version": "3.12.3"
  }
 },
 "nbformat": 4,
 "nbformat_minor": 5
}
