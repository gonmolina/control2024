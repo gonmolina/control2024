{
 "cells": [
  {
   "cell_type": "markdown",
   "id": "fe8e0c92",
   "metadata": {},
   "source": [
    "# Introducción a los cuadernos de Jupyter\n",
    "\n",
    "Estaremos utilizando Python a través de una interfaz conveniente\n",
    "que son los [Jupyter Notebook](http://jupyter.org/).\n",
    "Si a este cuaderno lo está visualizando a través de una pagina web, puede\n",
    "descargarlo haciendo click en icono de descarga ubicado arriba a la derecha\n",
    "y seleccionando el formato `ipynb`. También se puede ejecutar a desde la web,\n",
    "usando *binder*, haciendo click donde se encuentra el cohete. Los archivos\n",
    "con la extensión `.ipynb` son cuadernos de jupyter o jupyter notebooks."
   ]
  },
  {
   "cell_type": "markdown",
   "id": "67784b9e",
   "metadata": {},
   "source": [
    "Existen varias alternativas para visualizar los cuadernos de Jupyter. Paso a\n",
    "describir las más utilizadas:\n",
    "\n",
    "- Jupyter Notebook: se encuentra instalada con el software recomendado para\n",
    "la materia y consiste en una página web, que es servida por nuestra propia\n",
    "computadora. Es relativamente liviana en cuanto a recursos computacionales y\n",
    "con esta se pueden ver, ejecutar y editar los cuadernos\n",
    "\n",
    "- Jupyter Lab: es similar a la anterior, también se encuentra pre instalada\n",
    "con el software recomendado para la materia, pero cuenta con algunas\n",
    "funcionalidades extra como explorador de variables, ayuda contextual,\n",
    "explorador de archivos, y otras funcionalidades instalables a través de\n",
    "plugins. Esta es la forma recomendada por la cátedra para acceder a los\n",
    "cuadernos\n",
    "\n",
    "- Spyder: este es un entorno de desarrollo integrado (IDE) pre-instalado con\n",
    "el software recomendado por la cátedra. Para los cuadernos se usa un plugin\n",
    "que se llama spyder-notebook. Este IDE trata de emular el entorno ofrecido\n",
    "por Matlab. Es una buena elección para personas que están habituadas a\n",
    "utilizar Matlab y quieren o deben comenzar a utilizar Python y los cuadernos\n",
    "de jupyter.\n",
    "\n",
    "- Visual Studio Code: es un software gratuito de microsoft, que con un\n",
    "plugin (Python es el nombre del mismo) soporta todo lo referente a los cuadernos.\n",
    "Si bien utiliza jupyter para mostrar los cuadernos, provee una interface propia.\n",
    "Es recomendable para personas que están habituadas a programar o que quieran además\n",
    "de utilizar los cuadernos, escribir programas en Python o cualquier otro lenguaje en\n",
    "un mismo entorno. La principal desventaja es que suele ser algo complejo de configurar.\n",
    "Sin embargo cuenta con una gran documentación en la web. Se puede descarga\n",
    "[aquí](https://code.visualstudio.com/)."
   ]
  },
  {
   "cell_type": "markdown",
   "id": "97d21d60",
   "metadata": {},
   "source": [
    "## Un recorrido rápido\n",
    "\n",
    "Recora la interfaz del IDE en particualar que se haya elegido para para visualizar\n",
    "y editar los cuadernos. Se puede hacer doble click sobre las celdas\n",
    "y mirar el código fuente de cada una. Es recomendable tratar de entender la forma es que se\n",
    "escriben los títulos, que se definen las ecuaciones y como se diferencian una\n",
    "celda donde código (K) y una donde se escribe texto o ecuaciones\n",
    "matemáticas (M).\n",
    "\n",
    "Una vez que se está familiarizado con el entorno de trabajo ¡ejecutemos algo de código!\n",
    "\n",
    "*Evalúe la celda a continuación para imprimir por pantalla el mensaje\n",
    "\"Hello World\" haciendo clic dentro de la celda y luego presionando\n",
    "Shift + Enter*"
   ]
  },
  {
   "cell_type": "code",
   "execution_count": 1,
   "id": "8f783d7d",
   "metadata": {},
   "outputs": [
    {
     "name": "stdout",
     "output_type": "stream",
     "text": [
      "Hola\n",
      "Mundo\n"
     ]
    }
   ],
   "source": [
    "for word in ['Hola', 'Mundo']:\n",
    "    print(word)"
   ]
  },
  {
   "cell_type": "code",
   "execution_count": 2,
   "id": "3efe9aa0",
   "metadata": {},
   "outputs": [
    {
     "data": {
      "text/plain": [
       "1"
      ]
     },
     "execution_count": 2,
     "metadata": {},
     "output_type": "execute_result"
    }
   ],
   "source": [
    "a = 1\n",
    "a"
   ]
  },
  {
   "cell_type": "markdown",
   "id": "e8dac8b5",
   "metadata": {},
   "source": [
    "### Matemáticas en cuadros de texto\n",
    "\n",
    "El editor de texto admite matemáticas en notación [$\\LaTeX$](latex). Puede\n",
    "hacer doble clic en un cuadro de texto para ver los códigos utilizados para\n",
    "ingresarlo:\n",
    "\n",
    "$$f(a)=\\int^{t=\\infty}_{t=0} \\frac{1}{t+2} \\mathrm{d}t$$\n",
    "\n",
    "Haga doble clic en la fórmula anterior para ver el código que la produjo."
   ]
  },
  {
   "cell_type": "markdown",
   "id": "4ae78fde",
   "metadata": {},
   "source": [
    "Aprovechemos lo aprendido para introducirnos en el mundo de programación\n",
    "científica con Python.\n",
    "\n",
    "Los siguientes secciones de la introducción son a nivel informátivo. No es necesario\n",
    "estudiarlo en esta materia, pero les será útil  como material de consulta\n",
    "para resolver problemas comunes de la materia así como también de otras disciplinas\n",
    "científicas/ingenieriles."
   ]
  }
 ],
 "metadata": {
  "jupytext": {
   "encoding": "# -*- coding: utf-8 -*-",
   "formats": "ipynb,md:myst",
   "text_representation": {
    "extension": ".md",
    "format_name": "myst",
    "format_version": 0.13,
    "jupytext_version": "1.11.0"
   }
  },
  "kernelspec": {
   "display_name": "Python 3",
   "language": "python",
   "name": "python3"
  },
  "language_info": {
   "codemirror_mode": {
    "name": "ipython",
    "version": 3
   },
   "file_extension": ".py",
   "mimetype": "text/x-python",
   "name": "python",
   "nbconvert_exporter": "python",
   "pygments_lexer": "ipython3",
   "version": "3.12.3"
  },
  "source_map": [
   14,
   26,
   59,
   76,
   81,
   86,
   98
  ]
 },
 "nbformat": 4,
 "nbformat_minor": 5
}