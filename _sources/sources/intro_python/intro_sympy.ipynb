{
 "cells": [
  {
   "cell_type": "markdown",
   "id": "0c129916",
   "metadata": {},
   "source": [
    "# Introducción a SymPy\n",
    "\n",
    "`SymPy es una librería para Python de matemática simbólica. Para poder usarlo necesitamos importar [el paquete SymPy](http://docs.sympy.org/latest/index.html)."
   ]
  },
  {
   "cell_type": "code",
   "execution_count": null,
   "id": "a57ce344",
   "metadata": {},
   "outputs": [],
   "source": [
    "import sympy as sp"
   ]
  },
  {
   "cell_type": "markdown",
   "id": "85c1c35f",
   "metadata": {},
   "source": [
    "Para imprimir las fórmulas por pantalla y obtener una visualización tipográfica agradable, además es necesario ejecutar:"
   ]
  },
  {
   "cell_type": "code",
   "execution_count": null,
   "id": "40d77fe8",
   "metadata": {},
   "outputs": [],
   "source": [
    "sp.init_printing()"
   ]
  },
  {
   "cell_type": "markdown",
   "id": "547a4a05",
   "metadata": {},
   "source": [
    "Tenga en cuenta que esto puede cambiar según cual sea de la versión de `sympy`"
   ]
  },
  {
   "cell_type": "markdown",
   "id": "6010b149",
   "metadata": {},
   "source": [
    "Luego, ya para comenzar con la operatorio simbólica, necesitamos crear un símbolo."
   ]
  },
  {
   "cell_type": "code",
   "execution_count": null,
   "id": "544183d5",
   "metadata": {},
   "outputs": [],
   "source": [
    "x = sp.Symbol('x')\n",
    "x"
   ]
  },
  {
   "cell_type": "markdown",
   "id": "07185ec7",
   "metadata": {
    "lang": "es"
   },
   "source": [
    "`SymPy` nos permite hacer muchas operaciones matemáticas que serían tediosas a\n",
    "mano. Por ejemplo, podemos expandir un polinomio:"
   ]
  },
  {
   "cell_type": "code",
   "execution_count": null,
   "id": "737c95e8",
   "metadata": {},
   "outputs": [],
   "source": [
    "polynomial = (2*x + 3)**4\n",
    "polynomial.expand()"
   ]
  },
  {
   "cell_type": "markdown",
   "id": "29a61b5f",
   "metadata": {
    "lang": "es"
   },
   "source": [
    "Observe lo que sucedió: definimos un nuevo nombre llamado `polynomial`\n",
    "y luego usamos el método `.expand()` para expandir el polinomio. Podemos ver\n",
    "todos los métodos asociados con un objeto escribiendo su nombre y un punto y\n",
    "luego presionando \"tabulador\".\n",
    "\n",
    "Acceda a la lista de métodos para la variable polynomial ingresando \".\" y\n",
    "presionando tabulador al final de la línea en la celda a continuación."
   ]
  },
  {
   "cell_type": "markdown",
   "id": "5aefcb99",
   "metadata": {
    "lang": "es"
   },
   "source": [
    "Para obtener ayuda sobre cualquier método, podemos escribir su nombre y\n",
    "agregar un `?` al final, luego evaluar la celda.\n",
    "\n",
    "Obtenga ayuda sobre el método `.expand()` mediante la evaluación de la celda\n",
    "a continuación:"
   ]
  },
  {
   "cell_type": "code",
   "execution_count": null,
   "id": "980ab84b",
   "metadata": {},
   "outputs": [],
   "source": [
    "polynomial.expand?"
   ]
  },
  {
   "cell_type": "markdown",
   "id": "77fdd83c",
   "metadata": {
    "lang": "es"
   },
   "source": [
    "También es posible obtener ayuda para una función colocando el cursor entre\n",
    "los paréntesis y presionando Mayúscula + Tabulador"
   ]
  },
  {
   "cell_type": "markdown",
   "id": "fb428fef",
   "metadata": {
    "lang": "es"
   },
   "source": [
    "Por supuesto, también podemos factorizar polinomios:"
   ]
  },
  {
   "cell_type": "code",
   "execution_count": null,
   "id": "ca67f9c7",
   "metadata": {},
   "outputs": [],
   "source": [
    "(x**2 + 2*x + 1).factor()"
   ]
  },
  {
   "cell_type": "markdown",
   "id": "c8339fbe",
   "metadata": {},
   "source": [
    "## Cálculo\n",
    "\n",
    "`SymPy` sabe integrar y diferenciar."
   ]
  },
  {
   "cell_type": "code",
   "execution_count": null,
   "id": "3b6b04f5",
   "metadata": {},
   "outputs": [],
   "source": [
    "polynomial.diff(x)  # First derivative"
   ]
  },
  {
   "cell_type": "code",
   "execution_count": null,
   "id": "74155197",
   "metadata": {},
   "outputs": [],
   "source": [
    "polynomial.diff(x, 2)  # Second derivative"
   ]
  },
  {
   "cell_type": "code",
   "execution_count": null,
   "id": "2bbe2a52",
   "metadata": {},
   "outputs": [],
   "source": [
    "# indefinite integral - note no constant of integration is added\n",
    "polynomial.integrate(x)"
   ]
  },
  {
   "cell_type": "code",
   "execution_count": null,
   "id": "ab27b6f4",
   "metadata": {},
   "outputs": [],
   "source": [
    "# Note that integrate takes one argument which is a tuple for the definite\n",
    "# integral\n",
    "polynomial.integrate((x, 1, 2))"
   ]
  },
  {
   "cell_type": "markdown",
   "id": "dee2a3b2",
   "metadata": {
    "lang": "es"
   },
   "source": [
    "## Límites\n",
    "\n",
    "Podemos evaluar los límites usando `SymPy`, incluso para límites \"interesantes\"\n",
    "donde necesitaríamos la regla de L'Hopital"
   ]
  },
  {
   "cell_type": "code",
   "execution_count": null,
   "id": "310740ab",
   "metadata": {},
   "outputs": [],
   "source": [
    "sp.limit((2*sp.sin(x) - sp.sin(2*x))/(x - sp.sin(x)), x, 0)"
   ]
  },
  {
   "cell_type": "markdown",
   "id": "95abd52a",
   "metadata": {
    "lang": "es"
   },
   "source": [
    "## Aproximación\n",
    "\n",
    "`SymPy` tiene soporte incorporado para la expansión de series de Taylor"
   ]
  },
  {
   "cell_type": "code",
   "execution_count": null,
   "id": "81bb54a6",
   "metadata": {},
   "outputs": [],
   "source": [
    "nonlinear_expression = sp.sin(x)\n",
    "\n",
    "# taylor expansion in terms of the x variable, around x=2, first order.\n",
    "sp.series(nonlinear_expression, x, 2, 2)"
   ]
  },
  {
   "cell_type": "markdown",
   "id": "656ae9fe",
   "metadata": {
    "lang": "es"
   },
   "source": [
    "Para eliminar el término de perdida use `.removeO()`"
   ]
  },
  {
   "cell_type": "code",
   "execution_count": null,
   "id": "57dcb3e3",
   "metadata": {},
   "outputs": [],
   "source": [
    "temp = sp.series(nonlinear_expression, x, 2, 2)\n",
    "temp.removeO()"
   ]
  },
  {
   "cell_type": "markdown",
   "id": "545d228d",
   "metadata": {
    "lang": "es"
   },
   "source": [
    "También notará que el comportamiento predeterminado de `SymPy` es retener\n",
    "representaciones exactas de ciertos números:"
   ]
  },
  {
   "cell_type": "code",
   "execution_count": null,
   "id": "0c0234b8",
   "metadata": {},
   "outputs": [],
   "source": [
    "number = sp.sqrt(2)*sp.pi\n",
    "number"
   ]
  },
  {
   "cell_type": "markdown",
   "id": "b0761f3a",
   "metadata": {
    "lang": "es"
   },
   "source": [
    "Para convertir las representaciones exactas de arriba en representaciones\n",
    "aproximadas de [punto flotante](https://en.wikipedia.org/wiki/Floating_point), use uno de estos métodos:\n",
    "\n",
    "- `sympy.N` funciona con expresiones complicadas que también contienen variables.\n",
    "- `float` devolverá un número de tipo `float` de Python normal y es útil cuando se interactúa\n",
    "con programas que no son de `SymPy`."
   ]
  },
  {
   "cell_type": "code",
   "execution_count": null,
   "id": "5d568f6f",
   "metadata": {},
   "outputs": [],
   "source": [
    "sp.N(number*x)"
   ]
  },
  {
   "cell_type": "code",
   "execution_count": null,
   "id": "114e39bb",
   "metadata": {},
   "outputs": [],
   "source": [
    "float(number)"
   ]
  },
  {
   "cell_type": "markdown",
   "id": "ac7e3764",
   "metadata": {},
   "source": [
    "## Resolver ecuaciones\n",
    "\n",
    "`SymPy` puede ayudarnos a resolver y manipular  ecuaciones utilizando la\n",
    "función `solve`. Como muchas funciones de resolución, encuentra ceros de una\n",
    "función, por lo que tenemos que reescribir las ecuaciones de igualdad para\n",
    "que sean iguales a cero,\n",
    "\n",
    "$$\n",
    "\\begin{aligned}\n",
    " 2x^2 + 2 &= 4 \\\\\n",
    " 2x^2 + 2 - 4 &= 0\n",
    "\\end{aligned}\n",
    "$$"
   ]
  },
  {
   "cell_type": "code",
   "execution_count": null,
   "id": "5882d866",
   "metadata": {},
   "outputs": [],
   "source": [
    "solutions = sp.solve(2*x**2 + 2 - 4)\n",
    "solutions"
   ]
  },
  {
   "cell_type": "code",
   "execution_count": null,
   "id": "5a3b0710",
   "metadata": {},
   "outputs": [],
   "source": [
    "solutions[0]"
   ]
  },
  {
   "cell_type": "markdown",
   "id": "6c6f6ede",
   "metadata": {
    "lang": "es"
   },
   "source": [
    "También podemos usar `sp.Eq` para construir ecuaciones"
   ]
  },
  {
   "cell_type": "code",
   "execution_count": null,
   "id": "555971fe",
   "metadata": {},
   "outputs": [],
   "source": [
    "equation = sp.Eq(2*x**2 + 2, 4)\n",
    "equation"
   ]
  },
  {
   "cell_type": "markdown",
   "id": "e48d797b",
   "metadata": {
    "lang": "es"
   },
   "source": [
    "La función roots nos dará también la multiplicidad de las raíces."
   ]
  },
  {
   "cell_type": "code",
   "execution_count": null,
   "id": "c0d6780b",
   "metadata": {},
   "outputs": [],
   "source": [
    "sol = sp.roots(equation)\n",
    "sol"
   ]
  },
  {
   "cell_type": "markdown",
   "id": "ee0e0bb0",
   "metadata": {},
   "source": [
    "Esto no dice que la ecuación anterior tiene una solución -1 y otra solución\n",
    "igual 1."
   ]
  },
  {
   "cell_type": "markdown",
   "id": "78f2ad6c",
   "metadata": {
    "lang": "es"
   },
   "source": [
    "También podemos resolver sistemas de ecuaciones pasando una lista de\n",
    "ecuaciones para resolver y pidiendo una lista de variables para resolver."
   ]
  },
  {
   "cell_type": "code",
   "execution_count": null,
   "id": "cb82f9ba",
   "metadata": {},
   "outputs": [],
   "source": [
    "x, y = sp.symbols('x, y')\n",
    "sp.solve([x + y - 2,\n",
    "          x - y - 0], [y, x])"
   ]
  },
  {
   "cell_type": "markdown",
   "id": "92242e5a",
   "metadata": {
    "lang": "es"
   },
   "source": [
    "Esto incluso funciona con variables simbólicas en las ecuaciones."
   ]
  },
  {
   "cell_type": "code",
   "execution_count": null,
   "id": "3df512ae",
   "metadata": {},
   "outputs": [],
   "source": [
    "a, b, c = sp.var('a, b, c')\n",
    "solution = sp.solve([a*x + b*y - 2,\n",
    "                     a*x - b*y - c], [x, y])\n",
    "solution"
   ]
  },
  {
   "cell_type": "code",
   "execution_count": null,
   "id": "7572d27a",
   "metadata": {},
   "outputs": [],
   "source": [
    "solution.items()"
   ]
  },
  {
   "cell_type": "code",
   "execution_count": null,
   "id": "95170656",
   "metadata": {},
   "outputs": [],
   "source": [
    "a = [i for i in solution.values()]"
   ]
  },
  {
   "cell_type": "code",
   "execution_count": null,
   "id": "76a63384",
   "metadata": {},
   "outputs": [],
   "source": [
    "a[0]"
   ]
  },
  {
   "cell_type": "code",
   "execution_count": null,
   "id": "aaaa6972",
   "metadata": {},
   "outputs": [],
   "source": [
    "a[1]"
   ]
  }
 ],
 "metadata": {
  "jupytext": {
   "encoding": "# -*- coding: utf-8 -*-",
   "formats": "md:myst,ipynb",
   "text_representation": {
    "extension": ".md",
    "format_name": "myst",
    "format_version": 0.13,
    "jupytext_version": "1.11.0"
   }
  },
  "kernelspec": {
   "display_name": "Python 3",
   "language": "python",
   "name": "python3"
  },
  "source_map": [
   14,
   20,
   22,
   26,
   28,
   32,
   36,
   41,
   46,
   51,
   61,
   69,
   73,
   78,
   82,
   84,
   90,
   94,
   98,
   103,
   109,
   116,
   120,
   126,
   133,
   137,
   142,
   147,
   152,
   161,
   165,
   167,
   183,
   188,
   192,
   196,
   201,
   205,
   208,
   213,
   218,
   224,
   228,
   235,
   239,
   243,
   247
  ]
 },
 "nbformat": 4,
 "nbformat_minor": 5
}