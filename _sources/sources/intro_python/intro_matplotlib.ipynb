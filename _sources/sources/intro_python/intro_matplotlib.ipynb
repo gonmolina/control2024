{
 "cells": [
  {
   "cell_type": "markdown",
   "id": "11a83a11",
   "metadata": {},
   "source": [
    "# Figuras en Python - MATPLOTLIB"
   ]
  },
  {
   "cell_type": "markdown",
   "id": "28f877b4",
   "metadata": {},
   "source": [
    "## Introducción\n",
    "\n",
    "Matplotlib es una excelente biblioteca de gráficos 2D y 3D para generar figuras científicas. Algunas de las ventajas de esta biblioteca son:\n",
    "\n",
    "* Fácil de empezar, y cuenta con un gran soporte para personalizar los ejes y textos con formato $\\LaTeX$\n",
    "\n",
    "* Gran control de cada elemento de una figura, incluidos el tamaño de la figura y el DPI.\n",
    "\n",
    "* Salida de alta calidad en muchos formatos, incluidos PNG, PDF, SVG, EPS y PGF.\n",
    "\n",
    "* GUI para explorar de forma interactiva los valores en una figura.\n",
    "\n",
    "Una de las características clave de matplotlib que lo convierte en una biblioteca adecuada para generar figuras para publicaciones científicas,es que todos los aspectos de la figura pueden controlarse mediante programación. Esto es importante para la reproducir resultados y es conveniente cuando se necesita regenerar la figura con datos actualizados.\n",
    "\n",
    "Se puede encontrar una gran cantidad de información al respecto en la página web de [Matplotlib](http://matplotlib.org).\n",
    "\n",
    "Para comenzar a utilizar Matplotlib en un programa de Python, incluya los símbolos del módulo `pyplot` (de manera sencilla):"
   ]
  },
  {
   "cell_type": "code",
   "execution_count": null,
   "id": "90fdad34",
   "metadata": {},
   "outputs": [],
   "source": [
    "import matplotlib.pyplot as plt\n",
    "# importamos ademas la librería de calculo numérico numpy\n",
    "import numpy as np"
   ]
  },
  {
   "cell_type": "markdown",
   "id": "2a061974",
   "metadata": {},
   "source": [
    "## API similar a MATLAB\n",
    "\n",
    "La forma más fácil de comenzar con el trazado de matplotlib es usar la API similar a MATLAB proporcionada por matplotlib.\n",
    "\n",
    "Está diseñado para ser compatible con las funciones de trazado de MATLAB, por lo que es fácil comenzar si está familiarizado con MATLAB.\n",
    "\n",
    "Para usar esta API de matplotlib, necesitamos incluir los símbolos en el módulo `pylab`:"
   ]
  },
  {
   "cell_type": "code",
   "execution_count": null,
   "id": "64f739e4",
   "metadata": {},
   "outputs": [],
   "source": [
    "from pylab import *"
   ]
  },
  {
   "cell_type": "markdown",
   "id": "f4287e6e",
   "metadata": {},
   "source": [
    "### Ejemplo\n",
    "\n",
    "Haremos una figura simple con la API de trazado de MATLAB. Primero generamos datos en $x$ e $y$:"
   ]
  },
  {
   "cell_type": "code",
   "execution_count": null,
   "id": "bb569b3d",
   "metadata": {},
   "outputs": [],
   "source": [
    "x = np.linspace(0, 5, 10)\n",
    "y = x ** 2"
   ]
  },
  {
   "cell_type": "markdown",
   "id": "189af562",
   "metadata": {},
   "source": [
    "y luego los hacemos la gráfica:"
   ]
  },
  {
   "cell_type": "code",
   "execution_count": null,
   "id": "4d2c7c22",
   "metadata": {},
   "outputs": [],
   "source": [
    "figure()\n",
    "plot(x, y, 'r')\n",
    "xlabel('x')\n",
    "ylabel('y')\n",
    "title('title')\n",
    "show()"
   ]
  },
  {
   "cell_type": "markdown",
   "id": "6d79be94",
   "metadata": {},
   "source": [
    "La mayoría de las funciones relacionadas con el trazado en MATLAB están cubiertas por el módulo `pylab`. Por ejemplo, subplot y selección de color / símbolo:"
   ]
  },
  {
   "cell_type": "code",
   "execution_count": null,
   "id": "18dac157",
   "metadata": {},
   "outputs": [],
   "source": [
    "subplot(1,2,1)\n",
    "plot(x, y, 'r--')\n",
    "subplot(1,2,2)\n",
    "plot(y, x, 'g*-');"
   ]
  },
  {
   "cell_type": "markdown",
   "id": "54efe3c1",
   "metadata": {},
   "source": [
    "Lo bueno de la API de estilo MATLAB de Pylab es que es fácil comenzar si se está familiarizado con MATLAB, y tiene un mínimo de sobrecarga de codificación para diagramas simples.\n",
    "\n",
    "Sin embargo, recomendaría no usar la API compatible con MATLAB para nada más que las figuras más simples.\n",
    "\n",
    "En su lugar, recomiendo aprender y usar la API de trazado orientado a objetos de matplotlib. Es notablemente poderosa y mucho más recomendable a la hora de realizar figuras avanzadas con sub-figuras, inserciones y otros componentes."
   ]
  },
  {
   "cell_type": "markdown",
   "id": "f22e144d",
   "metadata": {},
   "source": [
    "## La API orientada a objetos matplotlib\n",
    "\n",
    "La idea principal de la programación orientada a objetos es tener objetos en los que se puedan aplicar funciones y acciones, y ningún estado de objeto o programa debe ser global (como la API similar a MATLAB). La ventaja real de este enfoque se hace evidente cuando se crea más de una figura, o cuando una figura contiene más de un argumento secundario.\n",
    "\n",
    "Para utilizar la API orientada a objetos, comenzamos como en el ejemplo anterior, pero en lugar de crear una nueva instancia de figura global, almacenamos una referencia a la instancia de figura recién creada en la variable `fig`, y a partir de ella creamos una instancia de ejes o `axes` usando el método `add_axes` en la instancia de la clase `Figure`,  `fig`:"
   ]
  },
  {
   "cell_type": "code",
   "execution_count": null,
   "id": "95bfd636",
   "metadata": {},
   "outputs": [],
   "source": [
    "fig = plt.figure()\n",
    "axes = fig.add_axes([0.1, 0.1, 0.8, 0.8]) # izquierda, inferior, ancho, alto (rango 0 a 1)\n",
    "\n",
    "axes.plot(x, y, 'r')\n",
    "axes.set_xlabel('x')\n",
    "axes.set_ylabel('y')\n",
    "axes.set_title('title');"
   ]
  },
  {
   "cell_type": "markdown",
   "id": "7ba391fb",
   "metadata": {
    "lang": "es"
   },
   "source": [
    "Aunque está involucrado un poco más de código, la ventaja es que ahora tenemos el control total de dónde se colocan los ejes de trazado, y podemos agregar fácilmente más de un eje a la figura:"
   ]
  },
  {
   "cell_type": "code",
   "execution_count": null,
   "id": "2590a179",
   "metadata": {},
   "outputs": [],
   "source": [
    "fig = plt.figure()\n",
    "axes1 = fig.add_axes([0.1, 0.1, 0.8, 0.8]) # eje principal\n",
    "axes2 = fig.add_axes([0.2, 0.5, 0.4, 0.3]) # eje interior\n",
    "\n",
    "# figura principal\n",
    "axes1.plot(x, y, 'r')\n",
    "axes1.set_xlabel('x')\n",
    "axes1.set_ylabel('y')\n",
    "axes1.set_title('title')\n",
    "\n",
    "# figura interior\n",
    "axes2.plot(y, x, 'g')\n",
    "axes2.set_xlabel('y')\n",
    "axes2.set_ylabel('x')\n",
    "axes2.set_title('insert title');"
   ]
  },
  {
   "cell_type": "markdown",
   "id": "7577325e",
   "metadata": {},
   "source": [
    "Si no nos importa ser explícitos acerca de dónde se ubican nuestros ejes de trazado en la figura, entonces podemos usar uno de los muchos administradores de diseño de ejes en matplotlib. Mi favorito es `subplots`, que se puede usar así:"
   ]
  },
  {
   "cell_type": "code",
   "execution_count": null,
   "id": "2a84d414",
   "metadata": {},
   "outputs": [],
   "source": [
    "fig, axes = plt.subplots()\n",
    "\n",
    "axes.plot(x, y, 'r')\n",
    "axes.set_xlabel('x')\n",
    "axes.set_ylabel('y')\n",
    "axes.set_title('title');"
   ]
  },
  {
   "cell_type": "code",
   "execution_count": null,
   "id": "8d2f2550",
   "metadata": {},
   "outputs": [],
   "source": [
    "fig, axes = plt.subplots(nrows=1, ncols=2)\n",
    "\n",
    "for ax in axes:\n",
    "    ax.plot(x, y, 'r')\n",
    "    ax.set_xlabel('x')\n",
    "    ax.set_ylabel('y')\n",
    "    ax.set_title('title')"
   ]
  },
  {
   "cell_type": "markdown",
   "id": "1e881b26",
   "metadata": {
    "lang": "es"
   },
   "source": [
    "Eso fue fácil, pero no resultó del todo bien ya que las etiquetas se superponen a los ejes.\n",
    "\n",
    "Podemos lidiar con eso usando el método `fig.tight_layout`, que ajusta automáticamente las posiciones de los ejes en la ventana de la figura para que no haya contenido superpuesto:"
   ]
  },
  {
   "cell_type": "code",
   "execution_count": null,
   "id": "d1526dbb",
   "metadata": {},
   "outputs": [],
   "source": [
    "fig, axes = plt.subplots(nrows=1, ncols=2)\n",
    "\n",
    "for ax in axes:\n",
    "    ax.plot(x, y, 'r')\n",
    "    ax.set_xlabel('x')\n",
    "    ax.set_ylabel('y')\n",
    "    ax.set_title('title')\n",
    "    \n",
    "fig.tight_layout()"
   ]
  },
  {
   "cell_type": "markdown",
   "id": "1203d7d4",
   "metadata": {
    "lang": "es"
   },
   "source": [
    "### Tamaño de la figura, relación de aspecto y DPI"
   ]
  },
  {
   "cell_type": "markdown",
   "id": "092c9a18",
   "metadata": {
    "lang": "es"
   },
   "source": [
    "Matplotlib permite especificar la relación de aspecto, el DPI y el tamaño de la figura cuando se crea el objeto de la clase `Figure`, utilizando los argumentos claves `figsize` y `dpi`. `figsize` es una tupla del ancho y alto de la figura en pulgadas, y `dpi` es la cantidad de pixels por pulgada. Para crear una figura de 800x400 pixels, 100 puntos por pulgada (DPI), podemos hacer:"
   ]
  },
  {
   "cell_type": "code",
   "execution_count": null,
   "id": "c87716d7",
   "metadata": {},
   "outputs": [],
   "source": [
    "fig = plt.figure(figsize=(8,4), dpi=100);"
   ]
  },
  {
   "cell_type": "markdown",
   "id": "eeeb76f0",
   "metadata": {
    "lang": "es"
   },
   "source": [
    "Los mismos argumentos también se pueden pasar a los gestores de diseño de figuras , como la función `subplots`:"
   ]
  },
  {
   "cell_type": "code",
   "execution_count": null,
   "id": "831d8442",
   "metadata": {},
   "outputs": [],
   "source": [
    "fig, axes = plt.subplots(figsize=(12,3))\n",
    "\n",
    "axes.plot(x, y, 'r')\n",
    "axes.set_xlabel('x')\n",
    "axes.set_ylabel('y')\n",
    "axes.set_title('title');"
   ]
  },
  {
   "cell_type": "markdown",
   "id": "12323075",
   "metadata": {},
   "source": [
    "### Guardando figuras\n",
    "\n",
    "Para guardar una figura en un archivo, podemos utilizar el método `savefig` en la clase `Figure`:"
   ]
  },
  {
   "cell_type": "code",
   "execution_count": null,
   "id": "ac6b7178",
   "metadata": {},
   "outputs": [],
   "source": [
    "fig.savefig(\"filename.png\")"
   ]
  },
  {
   "cell_type": "markdown",
   "id": "56e49a8b",
   "metadata": {
    "lang": "es"
   },
   "source": [
    "Aquí también podemos especificar opcionalmente el DPI y elegir entre diferentes formatos de salida:"
   ]
  },
  {
   "cell_type": "code",
   "execution_count": null,
   "id": "c3e5d763",
   "metadata": {},
   "outputs": [],
   "source": [
    "fig.savefig(\"filename.png\", dpi=200)"
   ]
  },
  {
   "cell_type": "markdown",
   "id": "046a6beb",
   "metadata": {
    "lang": "es"
   },
   "source": [
    "### Formatos disponibles: ¿cuáles deben usarse para obtener la mejor calidad?\n",
    "\n",
    "Matplotlib puede generar resultados de alta calidad en varios formatos, incluidos PNG, JPG, EPS, SVG, PGF y PDF. Para artículos científicos, recomiendo usar PDF siempre que sea posible. (Los documentos LaTeX compilados con `pdflatex` pueden incluir archivos PDF usando el comando `includegraphics`). En algunos casos, PGF también puede ser una buena alternativa."
   ]
  },
  {
   "cell_type": "markdown",
   "id": "d6892934",
   "metadata": {},
   "source": [
    "### Leyendas, etiquetas y títulos\n",
    "\n",
    "Ahora que hemos cubierto los conceptos básicos de cómo crear un lienzo de figura y agregar instancias de ejes al lienzo, veamos cómo decorar una figura con títulos, etiquetas de ejes y leyendas."
   ]
  },
  {
   "cell_type": "markdown",
   "id": "1d9db68e",
   "metadata": {},
   "source": [
    "#### Títulos de las figuras\n",
    "\n",
    "Se puede agregar un título a cada instancia de eje en una figura. Para establecer el título, use el método `set_title` en la instancia de los ejes:"
   ]
  },
  {
   "cell_type": "code",
   "execution_count": null,
   "id": "8c316ffb",
   "metadata": {},
   "outputs": [],
   "source": [
    "ax.set_title(\"title\");"
   ]
  },
  {
   "cell_type": "markdown",
   "id": "9baa0313",
   "metadata": {
    "lang": "es"
   },
   "source": [
    "#### Nombres de eje\n",
    "\n",
    "De manera similar, con los métodos `set_xlabel` y `set_ylabel`, podemos establecer los nombres o etiquetas de los ejes X e Y:"
   ]
  },
  {
   "cell_type": "code",
   "execution_count": null,
   "id": "0f58e081",
   "metadata": {},
   "outputs": [],
   "source": [
    "ax.set_xlabel(\"x\")\n",
    "ax.set_ylabel(\"y\");"
   ]
  },
  {
   "cell_type": "markdown",
   "id": "06e964b1",
   "metadata": {},
   "source": [
    "#### Leyendas\n",
    "\n",
    "Las leyendas para las curvas en una figura se pueden agregar de dos maneras. Un método es usar el método `legend` del objeto de eje y pasar una lista/tupla de textos de leyenda para las curvas definidas previamente:"
   ]
  },
  {
   "cell_type": "code",
   "execution_count": null,
   "id": "c0d8432f",
   "metadata": {},
   "outputs": [],
   "source": [
    "ax.legend([\"curva1\", \"curva2\", \"curva3\"]);"
   ]
  },
  {
   "cell_type": "markdown",
   "id": "7a32323e",
   "metadata": {},
   "source": [
    "El método descrito anteriormente sigue la API de MATLAB. Es algo propenso a errores y no es flexible si se agregan o eliminan curvas de la figura (lo que resulta en una curva mal etiquetada).\n",
    "\n",
    "Un método mejor es usar como argumento la palabra clave `label=\"label text\"` cuando se agregan sub-figuras u otros objetos a la figura, y luego usar el método `legend` sin argumentos para agregar la leyenda a la figura:"
   ]
  },
  {
   "cell_type": "code",
   "execution_count": null,
   "id": "1266c06e",
   "metadata": {},
   "outputs": [],
   "source": [
    "ax.plot(x, x**2, label=\"curva1\")\n",
    "ax.plot(x, x**3, label=\"curva2\")\n",
    "ax.legend();"
   ]
  },
  {
   "cell_type": "markdown",
   "id": "2720ddd7",
   "metadata": {},
   "source": [
    "La ventaja de este método es que si se agregan o eliminan curvas de la figura, la leyenda se actualiza automáticamente en consecuencia.\n",
    "\n",
    "La función `legend` toma un argumento de palabra clave opcional `loc` que se puede usar para especificar dónde se dibujará la leyenda en la figura. Los valores permitidos de `loc` son códigos numéricos para los distintos lugares donde se puede dibujar la leyenda. Consulte [la documentación de Matplotlib](http://matplotlib.org/users/legend_guide.html#legend-location) para obtener más información.\n",
    "\n",
    "Algunos de los valores más comunes de `loc` son:"
   ]
  },
  {
   "cell_type": "code",
   "execution_count": null,
   "id": "aef8f695",
   "metadata": {},
   "outputs": [],
   "source": [
    "ax.legend(loc=0) # matplotlib decide la ubicación óptima\n",
    "ax.legend(loc=1) # arriba a la derecha\n",
    "ax.legend(loc=2) # arriba a la izquierda\n",
    "ax.legend(loc=3) # abajo a la izquierda\n",
    "ax.legend(loc=4); # abajo a la derecha\n",
    "# .. many more options are available"
   ]
  },
  {
   "cell_type": "markdown",
   "id": "718dcecf",
   "metadata": {
    "lang": "es"
   },
   "source": [
    "En el siguiente ejemplo se muestra cómo usar el título de la figura, las etiquetas de los ejes y las leyendas descritas anteriormente:"
   ]
  },
  {
   "cell_type": "code",
   "execution_count": null,
   "id": "6a23725d",
   "metadata": {},
   "outputs": [],
   "source": [
    "fig, ax = plt.subplots()\n",
    "\n",
    "ax.plot(x, x**2, label=\"y = x**2\")\n",
    "ax.plot(x, x**3, label=\"y = x**3\")\n",
    "ax.legend(loc=2); # arriba a la izquierda \n",
    "ax.set_xlabel('x')\n",
    "ax.set_ylabel('y')\n",
    "ax.set_title('title');"
   ]
  },
  {
   "cell_type": "markdown",
   "id": "a7952572",
   "metadata": {
    "lang": "es"
   },
   "source": [
    "### Formato de texto: LaTeX, tamaño de fuente, familia de fuentes"
   ]
  },
  {
   "cell_type": "markdown",
   "id": "8fbb8c3f",
   "metadata": {
    "lang": "es"
   },
   "source": [
    "La figura anterior es funcional, pero (aún) no cumple los criterios de una figura utilizada en una publicación. Primero y ante todo, necesitamos tener texto con formato LaTeX, y segundo, debemos poder ajustar el tamaño de la fuente para que aparezca en una publicación.\n",
    "\n",
    "Matplotlib tiene un gran soporte para LaTeX. Todo lo que tenemos que hacer es usar signos de dólar para encapsular LaTeX en cualquier texto (leyenda, título, etiqueta, etc.). Por ejemplo, `\"$y=x^3$\"`.\n",
    "\n",
    "Pero aquí podemos encontrar un problema ligeramente sutil con el código LaTeX y las cadenas de texto de Python. En LaTeX, frecuentemente usamos la barra invertida en los comandos, por ejemplo `\\alpha` para producir el símbolo $\\alpha$. Pero la barra invertida ya tiene un significado en las cadenas de Python (el carácter del código de escape). Para evitar que Python estropee nuestro código de látex, necesitamos usar cadenas de texto \"sin procesar\". Las cadenas de texto sin formato se añaden con una '`r`', como `r\"\\alpha\"` o `r'\\alpha'` en lugar de `\"\\alpha\"` o `'\\alpha'`:"
   ]
  },
  {
   "cell_type": "code",
   "execution_count": null,
   "id": "03d74b7f",
   "metadata": {},
   "outputs": [],
   "source": [
    "fig, ax = plt.subplots()\n",
    "\n",
    "ax.plot(x, x**2, label=r\"$y = \\alpha^2$\")\n",
    "ax.plot(x, x**3, label=r\"$y = \\alpha^3$\")\n",
    "ax.legend(loc=2) # upper left corner\n",
    "ax.set_xlabel(r'$\\alpha$', fontsize=18)\n",
    "ax.set_ylabel(r'$y$', fontsize=18)\n",
    "ax.set_title('title');"
   ]
  },
  {
   "cell_type": "markdown",
   "id": "1bfb7f49",
   "metadata": {},
   "source": [
    "También podemos cambiar el tamaño de fuente global y la familia de fuentes, que se aplica a todos los elementos de texto en una figura (etiquetas y títulos de ejes, leyendas, etc.):"
   ]
  },
  {
   "cell_type": "code",
   "execution_count": null,
   "id": "c2f92a35",
   "metadata": {},
   "outputs": [],
   "source": [
    "# Actualiza los parámetros de configuración de Matplotlib \n",
    "matplotlib.rcParams.update({'font.size': 18, 'font.family': 'serif'})"
   ]
  },
  {
   "cell_type": "code",
   "execution_count": null,
   "id": "09a38fa7",
   "metadata": {},
   "outputs": [],
   "source": [
    "fig, ax = plt.subplots()\n",
    "\n",
    "ax.plot(x, x**2, label=r\"$y = \\alpha^2$\")\n",
    "ax.plot(x, x**3, label=r\"$y = \\alpha^3$\")\n",
    "ax.legend(loc=2) # upper left corner\n",
    "ax.set_xlabel(r'$\\alpha$')\n",
    "ax.set_ylabel(r'$y$')\n",
    "ax.set_title('title');"
   ]
  },
  {
   "cell_type": "markdown",
   "id": "1410d699",
   "metadata": {},
   "source": [
    "Una buena elección de fuentes globales son las fuentes STIX:"
   ]
  },
  {
   "cell_type": "code",
   "execution_count": null,
   "id": "4390df06",
   "metadata": {},
   "outputs": [],
   "source": [
    "matplotlib.rcParams.update({'font.size': 18, 'font.family': 'STIXGeneral', 'mathtext.fontset': 'stix'})"
   ]
  },
  {
   "cell_type": "code",
   "execution_count": null,
   "id": "20791f98",
   "metadata": {},
   "outputs": [],
   "source": [
    "fig, ax = plt.subplots()\n",
    "\n",
    "ax.plot(x, x**2, label=r\"$y = \\alpha^2$\")\n",
    "ax.plot(x, x**3, label=r\"$y = \\alpha^3$\")\n",
    "ax.legend(loc=2) # upper left corner\n",
    "ax.set_xlabel(r'$\\alpha$')\n",
    "ax.set_ylabel(r'$y$')\n",
    "ax.set_title('title');"
   ]
  },
  {
   "cell_type": "markdown",
   "id": "058b3ac9",
   "metadata": {},
   "source": [
    "### Configuración de colores, tipos de línea y marcadores"
   ]
  },
  {
   "cell_type": "markdown",
   "id": "16477ebc",
   "metadata": {},
   "source": [
    "#### Colores"
   ]
  },
  {
   "cell_type": "markdown",
   "id": "83e0a481",
   "metadata": {},
   "source": [
    "Con matplotlib se puede definir los colores de las lineas y de otros elementos gráficos de varias maneras. Primero podemos usar una sintaxis parecida a la de MATLAB donde `'b'` significa blue (azul), `'g'` significa green (verde), etc. El API de MATLAB para seleccionar estilos de lineas también es soportado: donde  `'b.-'`  significa azul con linea estilo linea punto."
   ]
  },
  {
   "cell_type": "code",
   "execution_count": null,
   "id": "02803e0f",
   "metadata": {},
   "outputs": [],
   "source": [
    "# MATLAB style line color and style \n",
    "ax.plot(x, x**2, 'b.-') # blue line with dots\n",
    "ax.plot(x, x**3, 'g--') # green dashed line"
   ]
  },
  {
   "cell_type": "markdown",
   "id": "918ee296",
   "metadata": {
    "lang": "es"
   },
   "source": [
    "También podemos definir los colores por sus nombres o códigos hexadecimales RGB y, opcionalmente, proporcionar un valor alfa utilizando los argumentos de las palabras clave `color` y `alpha`:"
   ]
  },
  {
   "cell_type": "code",
   "execution_count": null,
   "id": "1383c932",
   "metadata": {},
   "outputs": [],
   "source": [
    "fig, ax = plt.subplots()\n",
    "\n",
    "ax.plot(x, x+1, color=\"red\", alpha=0.5) # transparencia media\n",
    "ax.plot(x, x+2, color=\"#1155dd\")        # código hexadecimal RGB para un color azulado\n",
    "ax.plot(x, x+3, color=\"#15cc55\");        # # código hexadecimal RGB para un color verdoso"
   ]
  },
  {
   "cell_type": "markdown",
   "id": "25d212bc",
   "metadata": {},
   "source": [
    "#### Estilos de líneas y marcadores"
   ]
  },
  {
   "cell_type": "markdown",
   "id": "2db82d86",
   "metadata": {
    "lang": "es"
   },
   "source": [
    "Para cambiar el ancho de línea, podemos usar el argumento de la palabra clave `linewidth` o `lw`. El estilo de línea se puede seleccionar usando los argumentos de la palabra clave `linestyle` o `ls`:"
   ]
  },
  {
   "cell_type": "code",
   "execution_count": null,
   "id": "f7fb8664",
   "metadata": {},
   "outputs": [],
   "source": [
    "fig, ax = plt.subplots(figsize=(12,6))\n",
    "\n",
    "ax.plot(x, x+1, color=\"blue\", lw=0.25) # lw=linewidth\n",
    "ax.plot(x, x+2, color=\"blue\", lw=0.50)\n",
    "ax.plot(x, x+3, color=\"blue\", lw=1.00)\n",
    "ax.plot(x, x+4, color=\"blue\", lw=2.00)\n",
    "\n",
    "# posibles opciones de tipos de linea ‘-‘, ‘--’, ‘-.’, ‘:’, ‘steps’\n",
    "ax.plot(x, x+5, color=\"red\", lw=2, ls='-')\n",
    "ax.plot(x, x+6, color=\"red\", lw=2, ls='-.')\n",
    "ax.plot(x, x+7, color=\"red\", lw=2, ls=':')\n",
    "\n",
    "# trazo a tramos personalizado\n",
    "line, = ax.plot(x, x+8, color=\"black\", lw=1.50)\n",
    "line.set_dashes([5, 10, 15, 10]) # formato: largo de linea, largo del espacio, ...\n",
    "\n",
    "# símbolos de marcadores posibles: marker = '+', 'o', '*', 's', ',', '.', '1', '2', '3', '4', ...\n",
    "ax.plot(x, x+ 9, color=\"green\", lw=2, ls='--', marker='+')\n",
    "ax.plot(x, x+10, color=\"green\", lw=2, ls='--', marker='o')\n",
    "ax.plot(x, x+11, color=\"green\", lw=2, ls='--', marker='s')\n",
    "ax.plot(x, x+12, color=\"green\", lw=2, ls='--', marker='1')\n",
    "\n",
    "# tamaño y color de los marcadores\n",
    "ax.plot(x, x+13, color=\"purple\", lw=1, ls='-', marker='o', markersize=2)\n",
    "ax.plot(x, x+14, color=\"purple\", lw=1, ls='-', marker='o', markersize=4)\n",
    "ax.plot(x, x+15, color=\"purple\", lw=1, ls='-', marker='o', markersize=8, markerfacecolor=\"red\")\n",
    "ax.plot(x, x+16, color=\"purple\", lw=1, ls='-', marker='s', markersize=8, \n",
    "        markerfacecolor=\"yellow\", markeredgewidth=2, markeredgecolor=\"blue\");"
   ]
  },
  {
   "cell_type": "markdown",
   "id": "abdfd234",
   "metadata": {},
   "source": [
    "### Control sobre la apariencia del eje"
   ]
  },
  {
   "cell_type": "markdown",
   "id": "82cb5281",
   "metadata": {},
   "source": [
    "La apariencia de los ejes es un aspecto importante de una figura que a menudo necesitamos modificar para hacer una publicación con calidad gráfica. Necesitamos poder controlar dónde se colocan las marcas y las etiquetas, modificar el tamaño de la fuente y posiblemente las etiquetas utilizadas en los ejes. En esta sección veremos cómo controlar esas propiedades en una figura de matplotlib."
   ]
  },
  {
   "cell_type": "markdown",
   "id": "8fb0adca",
   "metadata": {},
   "source": [
    "#### Rango"
   ]
  },
  {
   "cell_type": "markdown",
   "id": "6da1c504",
   "metadata": {},
   "source": [
    "Lo primero que podríamos querer configurar es el rango de los ejes. Podemos hacerlo utilizando los métodos `set_ylim` y `set_xlim` en el objeto de eje, o `axis('tight')` para obtener rangos de ejes \"ajustados\" de manera automática:"
   ]
  },
  {
   "cell_type": "code",
   "execution_count": null,
   "id": "47439eee",
   "metadata": {},
   "outputs": [],
   "source": [
    "fig, axes = plt.subplots(1, 3, figsize=(12, 4))\n",
    "\n",
    "axes[0].plot(x, x**2, x, x**3)\n",
    "axes[0].set_title(\"rangos default de los ejes\")\n",
    "\n",
    "axes[1].plot(x, x**2, x, x**3)\n",
    "axes[1].axis('tight')\n",
    "axes[1].set_title(\"Ejes ajustados 'apretados' axes\")\n",
    "\n",
    "axes[2].plot(x, x**2, x, x**3)\n",
    "axes[2].set_ylim([0, 60])\n",
    "axes[2].set_xlim([2, 5])\n",
    "axes[2].set_title(\"Rango de los ejes personalizados\");"
   ]
  },
  {
   "cell_type": "markdown",
   "id": "db9fc544",
   "metadata": {},
   "source": [
    "#### Escala logarítmica"
   ]
  },
  {
   "cell_type": "markdown",
   "id": "b4ee6a0d",
   "metadata": {},
   "source": [
    "También es posible establecer una escala logarítmica para uno o ambos ejes. De hecho, esta funcionalidad es solo una aplicación de un sistema de transformación más general en Matplotlib. Cada una de las escalas de los ejes se establece por separado utilizando los métodos `set _xscale` y `set_yscale` que aceptan un parámetro (con el valor \"log\" en este caso):"
   ]
  },
  {
   "cell_type": "code",
   "execution_count": null,
   "id": "143cda40",
   "metadata": {},
   "outputs": [],
   "source": [
    "fig, axes = plt.subplots(1, 2, figsize=(10,4))\n",
    "      \n",
    "axes[0].plot(x, x**2, x, np.exp(x))\n",
    "axes[0].set_title(\"Normal scale\")\n",
    "\n",
    "axes[1].plot(x, x**2, x, np.exp(x))\n",
    "axes[1].set_yscale(\"log\")\n",
    "axes[1].set_title(\"Logarithmic scale (y)\");"
   ]
  },
  {
   "cell_type": "markdown",
   "id": "688350f9",
   "metadata": {},
   "source": [
    "### Ubicación de las etiquetas y etiquetas personalizadas"
   ]
  },
  {
   "cell_type": "markdown",
   "id": "a0133ffb",
   "metadata": {},
   "source": [
    "Podemos determinar explícitamente dónde queremos que los tics del eje con `set_xticks` y `set_yticks`, que toman una lista de valores para los lugares donde se colocarán los tics en el eje. También podemos usar los métodos `set_xticklabels` y `set_yticklabels` para proporcionar una lista de etiquetas de texto personalizadas para cada ubicación de marca:"
   ]
  },
  {
   "cell_type": "code",
   "execution_count": null,
   "id": "cf0f7bbe",
   "metadata": {},
   "outputs": [],
   "source": [
    "fig, ax = plt.subplots(figsize=(10, 4))\n",
    "\n",
    "ax.plot(x, x**2, x, x**3, lw=2)\n",
    "\n",
    "ax.set_xticks([1, 2, 3, 4, 5])\n",
    "ax.set_xticklabels([r'$\\alpha$', r'$\\beta$', r'$\\gamma$', r'$\\delta$', r'$\\epsilon$'], fontsize=18)\n",
    "\n",
    "yticks = [0, 50, 100, 150]\n",
    "ax.set_yticks(yticks)\n",
    "ax.set_yticklabels([\"$%.1f$\" % y for y in yticks], fontsize=18); # usa latex para formatear los tics"
   ]
  },
  {
   "cell_type": "markdown",
   "id": "facbd0e0",
   "metadata": {},
   "source": [
    "Hay una serie de métodos más avanzados para controlar la colocación de marcas mayores y menores en las cifras de matplotlib, como la ubicación automática de acuerdo con diferentes políticas. Consulte la [documentación de matplotlib](http://matplotlib.org/api/ticker_api.html) para obtener más información."
   ]
  },
  {
   "cell_type": "markdown",
   "id": "c4e546d5",
   "metadata": {},
   "source": [
    "#### Notación científica"
   ]
  },
  {
   "cell_type": "markdown",
   "id": "f0fdb8a9",
   "metadata": {},
   "source": [
    "Con grandes números en los ejes, a menudo es mejor usar la notación científica:"
   ]
  },
  {
   "cell_type": "code",
   "execution_count": null,
   "id": "58d0067a",
   "metadata": {},
   "outputs": [],
   "source": [
    "fig, ax = plt.subplots(1, 1)\n",
    "      \n",
    "ax.plot(x, x**2, x, np.exp(x))\n",
    "ax.set_title(\"Notación científica\")\n",
    "\n",
    "ax.set_yticks([0, 50, 100, 150])\n",
    "\n",
    "from matplotlib import ticker\n",
    "formatter = ticker.ScalarFormatter(useMathText=True)\n",
    "formatter.set_scientific(True) \n",
    "formatter.set_powerlimits((-1,1)) \n",
    "ax.yaxis.set_major_formatter(formatter)"
   ]
  },
  {
   "cell_type": "markdown",
   "id": "dbfcb44f",
   "metadata": {},
   "source": [
    "### Número de eje y espaciado de la etiqueta del eje"
   ]
  },
  {
   "cell_type": "code",
   "execution_count": null,
   "id": "946cceb1",
   "metadata": {},
   "outputs": [],
   "source": [
    "# distancia entre x e y y el numero del eje\n",
    "matplotlib.rcParams['xtick.major.pad'] = 5\n",
    "matplotlib.rcParams['ytick.major.pad'] = 5\n",
    "\n",
    "fig, ax = plt.subplots(1, 1)\n",
    "      \n",
    "ax.plot(x, x**2, x, np.exp(x))\n",
    "ax.set_yticks([0, 50, 100, 150])\n",
    "\n",
    "ax.set_title(\"label and axis spacing\")\n",
    "\n",
    "# separación entre la etiqueta del eje y los números del eje \n",
    "ax.xaxis.labelpad = 5\n",
    "ax.yaxis.labelpad = 5\n",
    "\n",
    "ax.set_xlabel(\"x\")\n",
    "ax.set_ylabel(\"y\");"
   ]
  },
  {
   "cell_type": "code",
   "execution_count": null,
   "id": "0380b011",
   "metadata": {},
   "outputs": [],
   "source": [
    "# Recuperamos los valores por defecto\n",
    "matplotlib.rcParams['xtick.major.pad'] = 3\n",
    "matplotlib.rcParams['ytick.major.pad'] = 3"
   ]
  },
  {
   "cell_type": "markdown",
   "id": "7b51dd3d",
   "metadata": {},
   "source": [
    "#### Ajustes de posición del eje"
   ]
  },
  {
   "cell_type": "markdown",
   "id": "7b2341ce",
   "metadata": {},
   "source": [
    "Desafortunadamente, al guardar figuras, las etiquetas a veces se recortan, y puede ser necesario ajustar un poco las posiciones de los ejes. Esto se puede hacer usando `subplots_adjust`:"
   ]
  },
  {
   "cell_type": "code",
   "execution_count": null,
   "id": "1dd5f41d",
   "metadata": {},
   "outputs": [],
   "source": [
    "fig, ax = plt.subplots(1, 1)\n",
    "      \n",
    "ax.plot(x, x**2, x, np.exp(x))\n",
    "ax.set_yticks([0, 50, 100, 150])\n",
    "\n",
    "ax.set_title(\"title\")\n",
    "ax.set_xlabel(\"x\")\n",
    "ax.set_ylabel(\"y\")\n",
    "\n",
    "fig.subplots_adjust(left=0.15, right=.9, bottom=0.1, top=0.9)"
   ]
  },
  {
   "cell_type": "markdown",
   "id": "12996100",
   "metadata": {},
   "source": [
    "### Grillas"
   ]
  },
  {
   "cell_type": "markdown",
   "id": "6d09c018",
   "metadata": {},
   "source": [
    "Con el método `grid` en el objeto de eje, podemos activar y desactivar las líneas de la cuadrícula. También podemos personalizar el aspecto de las líneas de la cuadrícula utilizando los mismos argumentos de palabras clave que la función `plot`:"
   ]
  },
  {
   "cell_type": "code",
   "execution_count": null,
   "id": "7a554c2e",
   "metadata": {},
   "outputs": [],
   "source": [
    "fig, axes = plt.subplots(1, 2, figsize=(10,3))\n",
    "\n",
    "# apariencia default de la grilla\n",
    "axes[0].plot(x, x**2, x, x**3, lw=2)\n",
    "axes[0].grid(True)\n",
    "\n",
    "# apariencia de la grilla personalizada\n",
    "axes[1].plot(x, x**2, x, x**3, lw=2)\n",
    "axes[1].grid(color='b', alpha=0.5, linestyle='dashed', linewidth=0.5)"
   ]
  },
  {
   "cell_type": "markdown",
   "id": "0335902a",
   "metadata": {},
   "source": [
    "### Lineas de eje"
   ]
  },
  {
   "cell_type": "markdown",
   "id": "52cc8e81",
   "metadata": {},
   "source": [
    "También podemos cambiar las propiedades de las lineas de los ejes:"
   ]
  },
  {
   "cell_type": "code",
   "execution_count": null,
   "id": "fc5045da",
   "metadata": {},
   "outputs": [],
   "source": [
    "fig, ax = plt.subplots(figsize=(6,2))\n",
    "\n",
    "ax.spines['bottom'].set_color('blue')\n",
    "ax.spines['top'].set_color('blue')\n",
    "\n",
    "ax.spines['left'].set_color('red')\n",
    "ax.spines['left'].set_linewidth(2)\n",
    "\n",
    "# sacamos las lineas del lado de la derecha\n",
    "ax.spines['right'].set_color(\"none\")\n",
    "ax.yaxis.tick_left() # ponemos solos los tics de la izquierda"
   ]
  },
  {
   "cell_type": "markdown",
   "id": "329b6910",
   "metadata": {},
   "source": [
    "### Ejes gemelos"
   ]
  },
  {
   "cell_type": "markdown",
   "id": "a266747d",
   "metadata": {},
   "source": [
    "A veces es útil tener ejes x o y duales en una figura; por ejemplo, al trazar curvas con diferentes unidades juntas. Matplotlib admite esto con las funciones `twinx` y `twiny`:"
   ]
  },
  {
   "cell_type": "code",
   "execution_count": null,
   "id": "1ecaeffe",
   "metadata": {},
   "outputs": [],
   "source": [
    "fig, ax1 = plt.subplots()\n",
    "\n",
    "ax1.plot(x, x**2, lw=2, color=\"blue\")\n",
    "ax1.set_ylabel(r\"area $(m^2)$\", fontsize=18, color=\"blue\")\n",
    "for label in ax1.get_yticklabels():\n",
    "    label.set_color(\"blue\")\n",
    "    \n",
    "ax2 = ax1.twinx()\n",
    "ax2.plot(x, x**3, lw=2, color=\"red\")\n",
    "ax2.set_ylabel(r\"volume $(m^3)$\", fontsize=18, color=\"red\")\n",
    "for label in ax2.get_yticklabels():\n",
    "    label.set_color(\"red\")"
   ]
  },
  {
   "cell_type": "markdown",
   "id": "df25cc83",
   "metadata": {
    "lang": "es"
   },
   "source": [
    "### Ejes donde x e y son cero"
   ]
  },
  {
   "cell_type": "code",
   "execution_count": null,
   "id": "36f3401e",
   "metadata": {},
   "outputs": [],
   "source": [
    "fig, ax = plt.subplots()\n",
    "\n",
    "ax.spines['right'].set_color('none')\n",
    "ax.spines['top'].set_color('none')\n",
    "\n",
    "ax.xaxis.set_ticks_position('bottom')\n",
    "ax.spines['bottom'].set_position(('data',0)) # set position of x spine to x=0\n",
    "\n",
    "ax.yaxis.set_ticks_position('left')\n",
    "ax.spines['left'].set_position(('data',0))   # set position of y spine to y=0\n",
    "\n",
    "xx = np.linspace(-0.75, 1., 100)\n",
    "ax.plot(xx, xx**3);"
   ]
  },
  {
   "cell_type": "markdown",
   "id": "efdba68c",
   "metadata": {
    "lang": "es"
   },
   "source": [
    "### Otros estilos de trama 2D"
   ]
  },
  {
   "cell_type": "markdown",
   "id": "ca9601ef",
   "metadata": {
    "lang": "es"
   },
   "source": [
    "Además del método regular 'plot', hay una serie de otras funciones para generar diferentes tipos de gráficos. Consulte la [galería de gráficos de matplotlib](http://matplotlib.org/gallery.html) para obtener una lista completa de los tipos de gráficos disponibles. Algunos de los más útiles se muestran a continuación:"
   ]
  },
  {
   "cell_type": "code",
   "execution_count": null,
   "id": "f3c42e93",
   "metadata": {},
   "outputs": [],
   "source": [
    "n = np.array([0,1,2,3,4,5])"
   ]
  },
  {
   "cell_type": "code",
   "execution_count": null,
   "id": "a0bfd9a2",
   "metadata": {},
   "outputs": [],
   "source": [
    "fig, axes = plt.subplots(1, 4, figsize=(12,3))\n",
    "\n",
    "axes[0].scatter(xx, xx + 0.25*np.random.randn(len(xx)))\n",
    "axes[0].set_title(\"scatter\")\n",
    "\n",
    "axes[1].step(n, n**2, lw=2)\n",
    "axes[1].set_title(\"step\")\n",
    "\n",
    "axes[2].bar(n, n**2, align=\"center\", width=0.5, alpha=0.5)\n",
    "axes[2].set_title(\"bar\")\n",
    "\n",
    "axes[3].fill_between(x, x**2, x**3, color=\"green\", alpha=0.5);\n",
    "axes[3].set_title(\"fill_between\");"
   ]
  },
  {
   "cell_type": "code",
   "execution_count": null,
   "id": "57d48de1",
   "metadata": {},
   "outputs": [],
   "source": [
    "# gráfico polar usando add_axes y una proyección polar\n",
    "fig = plt.figure()\n",
    "ax = fig.add_axes([0.0, 0.0, .6, .6], polar=True)\n",
    "t = np.linspace(0, 2 * np.pi, 100)\n",
    "ax.plot(t, t, color='blue', lw=3);"
   ]
  },
  {
   "cell_type": "code",
   "execution_count": null,
   "id": "7a1eec32",
   "metadata": {},
   "outputs": [],
   "source": [
    "# Un histograma\n",
    "n = np.random.randn(100000)\n",
    "fig, axes = plt.subplots(1, 2, figsize=(12,4))\n",
    "\n",
    "axes[0].hist(n)\n",
    "axes[0].set_title(\"Default histogram\")\n",
    "axes[0].set_xlim((min(n), max(n)))\n",
    "\n",
    "axes[1].hist(n, cumulative=True, bins=50)\n",
    "axes[1].set_title(\"Cumulative detailed histogram\")\n",
    "axes[1].set_xlim((min(n), max(n)));"
   ]
  },
  {
   "cell_type": "markdown",
   "id": "d6730be9",
   "metadata": {
    "lang": "es"
   },
   "source": [
    "### Anotación de texto"
   ]
  },
  {
   "cell_type": "markdown",
   "id": "88c3bae3",
   "metadata": {
    "lang": "es"
   },
   "source": [
    "La anotación de texto en las figuras de matplotlib se puede hacer usando la función `text`. Admite el formateo LaTeX al igual que los textos y títulos de etiquetas de ejes:"
   ]
  },
  {
   "cell_type": "code",
   "execution_count": null,
   "id": "c894f502",
   "metadata": {},
   "outputs": [],
   "source": [
    "fig, ax = plt.subplots()\n",
    "\n",
    "ax.plot(xx, xx**2, xx, xx**3)\n",
    "\n",
    "ax.text(0.15, 0.2, r\"$y=x^2$\", fontsize=20, color=\"blue\")\n",
    "ax.text(0.65, 0.1, r\"$y=x^3$\", fontsize=20, color=\"green\");"
   ]
  },
  {
   "cell_type": "markdown",
   "id": "30ff45ae",
   "metadata": {},
   "source": [
    "### Figuras con múltiples sub-figuras e inserciones"
   ]
  },
  {
   "cell_type": "markdown",
   "id": "090b5bc1",
   "metadata": {},
   "source": [
    "Los ejes se pueden agregar a una figura de matplotlib manualmente usando `fig.add_axes` o usando un administrador de diseño de sub-figuras como `subplots`, `subplot2grid` o `gridspec`:"
   ]
  },
  {
   "cell_type": "markdown",
   "id": "10394c07",
   "metadata": {},
   "source": [
    "#### subplots"
   ]
  },
  {
   "cell_type": "code",
   "execution_count": null,
   "id": "3d02c561",
   "metadata": {},
   "outputs": [],
   "source": [
    "fig, ax = plt.subplots(2, 3)\n",
    "fig.tight_layout()"
   ]
  },
  {
   "cell_type": "markdown",
   "id": "cab47568",
   "metadata": {},
   "source": [
    "#### subplot2grid"
   ]
  },
  {
   "cell_type": "code",
   "execution_count": null,
   "id": "038b8586",
   "metadata": {},
   "outputs": [],
   "source": [
    "fig = plt.figure()\n",
    "ax1 = plt.subplot2grid((3,3), (0,0), colspan=3)\n",
    "ax2 = plt.subplot2grid((3,3), (1,0), colspan=2)\n",
    "ax3 = plt.subplot2grid((3,3), (1,2), rowspan=2)\n",
    "ax4 = plt.subplot2grid((3,3), (2,0))\n",
    "ax5 = plt.subplot2grid((3,3), (2,1))\n",
    "fig.tight_layout()"
   ]
  },
  {
   "cell_type": "markdown",
   "id": "fc30b1d0",
   "metadata": {},
   "source": [
    "#### gridspec"
   ]
  },
  {
   "cell_type": "code",
   "execution_count": null,
   "id": "4f46ade1",
   "metadata": {},
   "outputs": [],
   "source": [
    "import matplotlib.gridspec as gridspec"
   ]
  },
  {
   "cell_type": "code",
   "execution_count": null,
   "id": "b1a24be7",
   "metadata": {},
   "outputs": [],
   "source": [
    "fig = plt.figure()\n",
    "\n",
    "gs = gridspec.GridSpec(2, 3, height_ratios=[2,1], width_ratios=[1,2,1])\n",
    "for g in gs:\n",
    "    ax = fig.add_subplot(g)\n",
    "    \n",
    "fig.tight_layout()"
   ]
  },
  {
   "cell_type": "markdown",
   "id": "427c10bd",
   "metadata": {},
   "source": [
    "#### add_axes"
   ]
  },
  {
   "cell_type": "markdown",
   "id": "89b53d60",
   "metadata": {
    "lang": "es"
   },
   "source": [
    "La adición manual de ejes con `add_axes` es útil para agregar inserciones a las figuras:"
   ]
  },
  {
   "cell_type": "code",
   "execution_count": null,
   "id": "69288231",
   "metadata": {},
   "outputs": [],
   "source": [
    "fig, ax = plt.subplots()\n",
    "\n",
    "ax.plot(xx, xx**2, xx, xx**3)\n",
    "fig.tight_layout()\n",
    "\n",
    "# interno\n",
    "inset_ax = fig.add_axes([0.2, 0.55, 0.35, 0.35]) # X, Y, ancho, alto\n",
    "\n",
    "inset_ax.plot(xx, xx**2, xx, xx**3)\n",
    "inset_ax.set_title('zoom cerca del origen')\n",
    "\n",
    "# set axis range\n",
    "inset_ax.set_xlim(-.2, .2)\n",
    "inset_ax.set_ylim(-.005, .01)\n",
    "\n",
    "# set axis tick locations\n",
    "inset_ax.set_yticks([0, 0.005, 0.01])\n",
    "inset_ax.set_xticks([-0.1,0,.1]);"
   ]
  },
  {
   "cell_type": "markdown",
   "id": "7a82d64a",
   "metadata": {
    "lang": "es"
   },
   "source": [
    "### Figuras de colores y contornos"
   ]
  },
  {
   "cell_type": "markdown",
   "id": "4ed1d50d",
   "metadata": {
    "lang": "es"
   },
   "source": [
    "Los mapas de colores y las figuras de contorno son útiles para trazar funciones de dos variables. En la mayoría de estas funciones, utilizaremos un mapa de colores para codificar una dimensión de los datos. Hay una serie de mapas de color predefinidos. Es relativamente sencillo definir mapas de colores personalizados. Para obtener una lista de mapas de colores predefinidos, consulte [aquí](http://www.scipy.org/Cookbook/Matplotlib/Show_colormaps)"
   ]
  },
  {
   "cell_type": "code",
   "execution_count": null,
   "id": "3b6a4fe9",
   "metadata": {},
   "outputs": [],
   "source": [
    "alpha = 0.7\n",
    "phi_ext = 2 * np.pi * 0.5\n",
    "\n",
    "def flux_qubit_potential(phi_m, phi_p):\n",
    "    return 2 + alpha - 2 * np.cos(phi_p) * np.cos(phi_m) - alpha * np.cos(phi_ext - 2*phi_p)"
   ]
  },
  {
   "cell_type": "code",
   "execution_count": null,
   "id": "2ad833b7",
   "metadata": {},
   "outputs": [],
   "source": [
    "phi_m = np.linspace(0, 2*np.pi, 100)\n",
    "phi_p = np.linspace(0, 2*np.pi, 100)\n",
    "X,Y = np.meshgrid(phi_p, phi_m)\n",
    "Z = flux_qubit_potential(X, Y).T"
   ]
  },
  {
   "cell_type": "markdown",
   "id": "3d1fd75f",
   "metadata": {},
   "source": [
    "#### pcolor"
   ]
  },
  {
   "cell_type": "code",
   "execution_count": null,
   "id": "5aacf222",
   "metadata": {},
   "outputs": [],
   "source": [
    "fig, ax = plt.subplots()\n",
    "\n",
    "p = ax.pcolor(X/(2*np.pi), Y/(2*np.pi), Z, cmap=matplotlib.cm.RdBu, vmin=abs(Z).min(), vmax=abs(Z).max(), shading='auto')\n",
    "cb = fig.colorbar(p, ax=ax)"
   ]
  },
  {
   "cell_type": "markdown",
   "id": "46555c3a",
   "metadata": {},
   "source": [
    "#### imshow"
   ]
  },
  {
   "cell_type": "code",
   "execution_count": null,
   "id": "6aa089d4",
   "metadata": {},
   "outputs": [],
   "source": [
    "fig, ax = plt.subplots()\n",
    "\n",
    "im = ax.imshow(Z, cmap=matplotlib.cm.RdBu, vmin=abs(Z).min(), vmax=abs(Z).max(), extent=[0, 1, 0, 1])\n",
    "im.set_interpolation('bilinear')\n",
    "\n",
    "cb = fig.colorbar(im, ax=ax)"
   ]
  },
  {
   "cell_type": "markdown",
   "id": "a80c6906",
   "metadata": {},
   "source": [
    "#### contour"
   ]
  },
  {
   "cell_type": "code",
   "execution_count": null,
   "id": "8a72bb86",
   "metadata": {},
   "outputs": [],
   "source": [
    "fig, ax = plt.subplots()\n",
    "\n",
    "cnt = ax.contour(Z, cmap=matplotlib.cm.RdBu, vmin=abs(Z).min(), vmax=abs(Z).max(), extent=[0, 1, 0, 1])"
   ]
  },
  {
   "cell_type": "markdown",
   "id": "4dc6d53f",
   "metadata": {},
   "source": [
    "### Otras lecturas"
   ]
  },
  {
   "cell_type": "markdown",
   "id": "640e08e7",
   "metadata": {},
   "source": [
    "* [The project web page for matplotlib](http://www.matplotlib.org).\n",
    "* [The source code for matplotlib](https://github.com/matplotlib/matplotlib).\n",
    "* [A large gallery with various types of plots matplotlib can create](http://matplotlib.org/gallery.html). Recomendada!\n",
    "* [A good matplotlib tutorial](http://www.loria.fr/~rougier/teaching/matplotlib ).\n",
    "* [Another good matplotlib reference](http://scipy-lectures.github.io/matplotlib/matplotlib.html)."
   ]
  }
 ],
 "metadata": {
  "jupytext": {
   "formats": "ipynb,md:myst",
   "text_representation": {
    "extension": ".md",
    "format_name": "myst",
    "format_version": 0.13,
    "jupytext_version": "1.11.0"
   }
  },
  "kernelspec": {
   "display_name": "Python 3",
   "language": "python",
   "name": "python3"
  },
  "source_map": [
   13,
   18,
   38,
   42,
   52,
   54,
   60,
   63,
   67,
   74,
   78,
   83,
   91,
   99,
   109,
   113,
   129,
   133,
   142,
   152,
   158,
   170,
   174,
   178,
   182,
   186,
   193,
   199,
   203,
   207,
   211,
   217,
   223,
   229,
   233,
   239,
   242,
   248,
   250,
   256,
   260,
   268,
   277,
   281,
   292,
   296,
   304,
   313,
   317,
   322,
   331,
   335,
   339,
   348,
   352,
   356,
   360,
   366,
   370,
   376,
   380,
   384,
   413,
   417,
   421,
   425,
   429,
   443,
   447,
   451,
   460,
   464,
   468,
   479,
   483,
   487,
   491,
   504,
   508,
   528,
   532,
   536,
   540,
   551,
   555,
   559,
   569,
   573,
   577,
   589,
   593,
   597,
   612,
   616,
   632,
   636,
   640,
   644,
   660,
   668,
   682,
   686,
   690,
   697,
   701,
   705,
   709,
   712,
   716,
   724,
   728,
   732,
   740,
   744,
   748,
   769,
   773,
   777,
   785,
   790,
   794,
   799,
   803,
   810,
   814,
   818,
   822
  ]
 },
 "nbformat": 4,
 "nbformat_minor": 5
}